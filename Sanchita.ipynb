{
 "cells": [
  {
   "cell_type": "code",
   "execution_count": 1,
   "id": "3ad92d85",
   "metadata": {},
   "outputs": [],
   "source": [
    "#Load the libraries\n",
    "import pandas as pd #To work with dataset\n",
    "import numpy as np #Math library\n",
    "import seaborn as sns #Graph library that use matplot in background\n",
    "import matplotlib.pyplot as plt #matplotlib for plotting"
   ]
  },
  {
   "cell_type": "code",
   "execution_count": 2,
   "id": "69977aa9",
   "metadata": {},
   "outputs": [
    {
     "name": "stderr",
     "output_type": "stream",
     "text": [
      "C:\\Users\\user\\anaconda3\\lib\\site-packages\\IPython\\core\\interactiveshell.py:3444: DtypeWarning: Columns (47) have mixed types.Specify dtype option on import or set low_memory=False.\n",
      "  exec(code_obj, self.user_global_ns, self.user_ns)\n"
     ]
    },
    {
     "data": {
      "text/html": [
       "<div>\n",
       "<style scoped>\n",
       "    .dataframe tbody tr th:only-of-type {\n",
       "        vertical-align: middle;\n",
       "    }\n",
       "\n",
       "    .dataframe tbody tr th {\n",
       "        vertical-align: top;\n",
       "    }\n",
       "\n",
       "    .dataframe thead th {\n",
       "        text-align: right;\n",
       "    }\n",
       "</style>\n",
       "<table border=\"1\" class=\"dataframe\">\n",
       "  <thead>\n",
       "    <tr style=\"text-align: right;\">\n",
       "      <th></th>\n",
       "      <th>id</th>\n",
       "      <th>member_id</th>\n",
       "      <th>loan_amnt</th>\n",
       "      <th>funded_amnt</th>\n",
       "      <th>funded_amnt_inv</th>\n",
       "      <th>term</th>\n",
       "      <th>int_rate</th>\n",
       "      <th>installment</th>\n",
       "      <th>grade</th>\n",
       "      <th>sub_grade</th>\n",
       "      <th>...</th>\n",
       "      <th>num_tl_90g_dpd_24m</th>\n",
       "      <th>num_tl_op_past_12m</th>\n",
       "      <th>pct_tl_nvr_dlq</th>\n",
       "      <th>percent_bc_gt_75</th>\n",
       "      <th>pub_rec_bankruptcies</th>\n",
       "      <th>tax_liens</th>\n",
       "      <th>tot_hi_cred_lim</th>\n",
       "      <th>total_bal_ex_mort</th>\n",
       "      <th>total_bc_limit</th>\n",
       "      <th>total_il_high_credit_limit</th>\n",
       "    </tr>\n",
       "  </thead>\n",
       "  <tbody>\n",
       "    <tr>\n",
       "      <th>0</th>\n",
       "      <td>1077501</td>\n",
       "      <td>1296599</td>\n",
       "      <td>5000</td>\n",
       "      <td>5000</td>\n",
       "      <td>4975.0</td>\n",
       "      <td>36 months</td>\n",
       "      <td>10.65%</td>\n",
       "      <td>162.87</td>\n",
       "      <td>B</td>\n",
       "      <td>B2</td>\n",
       "      <td>...</td>\n",
       "      <td>NaN</td>\n",
       "      <td>NaN</td>\n",
       "      <td>NaN</td>\n",
       "      <td>NaN</td>\n",
       "      <td>0.0</td>\n",
       "      <td>0.0</td>\n",
       "      <td>NaN</td>\n",
       "      <td>NaN</td>\n",
       "      <td>NaN</td>\n",
       "      <td>NaN</td>\n",
       "    </tr>\n",
       "    <tr>\n",
       "      <th>1</th>\n",
       "      <td>1077430</td>\n",
       "      <td>1314167</td>\n",
       "      <td>2500</td>\n",
       "      <td>2500</td>\n",
       "      <td>2500.0</td>\n",
       "      <td>60 months</td>\n",
       "      <td>15.27%</td>\n",
       "      <td>59.83</td>\n",
       "      <td>C</td>\n",
       "      <td>C4</td>\n",
       "      <td>...</td>\n",
       "      <td>NaN</td>\n",
       "      <td>NaN</td>\n",
       "      <td>NaN</td>\n",
       "      <td>NaN</td>\n",
       "      <td>0.0</td>\n",
       "      <td>0.0</td>\n",
       "      <td>NaN</td>\n",
       "      <td>NaN</td>\n",
       "      <td>NaN</td>\n",
       "      <td>NaN</td>\n",
       "    </tr>\n",
       "    <tr>\n",
       "      <th>2</th>\n",
       "      <td>1077175</td>\n",
       "      <td>1313524</td>\n",
       "      <td>2400</td>\n",
       "      <td>2400</td>\n",
       "      <td>2400.0</td>\n",
       "      <td>36 months</td>\n",
       "      <td>15.96%</td>\n",
       "      <td>84.33</td>\n",
       "      <td>C</td>\n",
       "      <td>C5</td>\n",
       "      <td>...</td>\n",
       "      <td>NaN</td>\n",
       "      <td>NaN</td>\n",
       "      <td>NaN</td>\n",
       "      <td>NaN</td>\n",
       "      <td>0.0</td>\n",
       "      <td>0.0</td>\n",
       "      <td>NaN</td>\n",
       "      <td>NaN</td>\n",
       "      <td>NaN</td>\n",
       "      <td>NaN</td>\n",
       "    </tr>\n",
       "    <tr>\n",
       "      <th>3</th>\n",
       "      <td>1076863</td>\n",
       "      <td>1277178</td>\n",
       "      <td>10000</td>\n",
       "      <td>10000</td>\n",
       "      <td>10000.0</td>\n",
       "      <td>36 months</td>\n",
       "      <td>13.49%</td>\n",
       "      <td>339.31</td>\n",
       "      <td>C</td>\n",
       "      <td>C1</td>\n",
       "      <td>...</td>\n",
       "      <td>NaN</td>\n",
       "      <td>NaN</td>\n",
       "      <td>NaN</td>\n",
       "      <td>NaN</td>\n",
       "      <td>0.0</td>\n",
       "      <td>0.0</td>\n",
       "      <td>NaN</td>\n",
       "      <td>NaN</td>\n",
       "      <td>NaN</td>\n",
       "      <td>NaN</td>\n",
       "    </tr>\n",
       "    <tr>\n",
       "      <th>4</th>\n",
       "      <td>1075358</td>\n",
       "      <td>1311748</td>\n",
       "      <td>3000</td>\n",
       "      <td>3000</td>\n",
       "      <td>3000.0</td>\n",
       "      <td>60 months</td>\n",
       "      <td>12.69%</td>\n",
       "      <td>67.79</td>\n",
       "      <td>B</td>\n",
       "      <td>B5</td>\n",
       "      <td>...</td>\n",
       "      <td>NaN</td>\n",
       "      <td>NaN</td>\n",
       "      <td>NaN</td>\n",
       "      <td>NaN</td>\n",
       "      <td>0.0</td>\n",
       "      <td>0.0</td>\n",
       "      <td>NaN</td>\n",
       "      <td>NaN</td>\n",
       "      <td>NaN</td>\n",
       "      <td>NaN</td>\n",
       "    </tr>\n",
       "  </tbody>\n",
       "</table>\n",
       "<p>5 rows × 111 columns</p>\n",
       "</div>"
      ],
      "text/plain": [
       "        id  member_id  loan_amnt  funded_amnt  funded_amnt_inv        term  \\\n",
       "0  1077501    1296599       5000         5000           4975.0   36 months   \n",
       "1  1077430    1314167       2500         2500           2500.0   60 months   \n",
       "2  1077175    1313524       2400         2400           2400.0   36 months   \n",
       "3  1076863    1277178      10000        10000          10000.0   36 months   \n",
       "4  1075358    1311748       3000         3000           3000.0   60 months   \n",
       "\n",
       "  int_rate  installment grade sub_grade  ... num_tl_90g_dpd_24m  \\\n",
       "0   10.65%       162.87     B        B2  ...                NaN   \n",
       "1   15.27%        59.83     C        C4  ...                NaN   \n",
       "2   15.96%        84.33     C        C5  ...                NaN   \n",
       "3   13.49%       339.31     C        C1  ...                NaN   \n",
       "4   12.69%        67.79     B        B5  ...                NaN   \n",
       "\n",
       "  num_tl_op_past_12m pct_tl_nvr_dlq  percent_bc_gt_75 pub_rec_bankruptcies  \\\n",
       "0                NaN            NaN               NaN                  0.0   \n",
       "1                NaN            NaN               NaN                  0.0   \n",
       "2                NaN            NaN               NaN                  0.0   \n",
       "3                NaN            NaN               NaN                  0.0   \n",
       "4                NaN            NaN               NaN                  0.0   \n",
       "\n",
       "  tax_liens tot_hi_cred_lim total_bal_ex_mort total_bc_limit  \\\n",
       "0       0.0             NaN               NaN            NaN   \n",
       "1       0.0             NaN               NaN            NaN   \n",
       "2       0.0             NaN               NaN            NaN   \n",
       "3       0.0             NaN               NaN            NaN   \n",
       "4       0.0             NaN               NaN            NaN   \n",
       "\n",
       "  total_il_high_credit_limit  \n",
       "0                        NaN  \n",
       "1                        NaN  \n",
       "2                        NaN  \n",
       "3                        NaN  \n",
       "4                        NaN  \n",
       "\n",
       "[5 rows x 111 columns]"
      ]
     },
     "execution_count": 2,
     "metadata": {},
     "output_type": "execute_result"
    }
   ],
   "source": [
    "# Importing the data\n",
    "data = pd.read_csv(\"loan.csv\")\n",
    "data.head()"
   ]
  },
  {
   "cell_type": "code",
   "execution_count": 3,
   "id": "a8ed1839",
   "metadata": {},
   "outputs": [
    {
     "name": "stdout",
     "output_type": "stream",
     "text": [
      "                 id     member_id     loan_amnt   funded_amnt  \\\n",
      "count  3.971700e+04  3.971700e+04  39717.000000  39717.000000   \n",
      "mean   6.831319e+05  8.504636e+05  11219.443815  10947.713196   \n",
      "std    2.106941e+05  2.656783e+05   7456.670694   7187.238670   \n",
      "min    5.473400e+04  7.069900e+04    500.000000    500.000000   \n",
      "25%    5.162210e+05  6.667800e+05   5500.000000   5400.000000   \n",
      "50%    6.656650e+05  8.508120e+05  10000.000000   9600.000000   \n",
      "75%    8.377550e+05  1.047339e+06  15000.000000  15000.000000   \n",
      "max    1.077501e+06  1.314167e+06  35000.000000  35000.000000   \n",
      "\n",
      "       funded_amnt_inv   installment    annual_inc           dti  \\\n",
      "count     39717.000000  39717.000000  3.971700e+04  39717.000000   \n",
      "mean      10397.448868    324.561922  6.896893e+04     13.315130   \n",
      "std        7128.450439    208.874874  6.379377e+04      6.678594   \n",
      "min           0.000000     15.690000  4.000000e+03      0.000000   \n",
      "25%        5000.000000    167.020000  4.040400e+04      8.170000   \n",
      "50%        8975.000000    280.220000  5.900000e+04     13.400000   \n",
      "75%       14400.000000    430.780000  8.230000e+04     18.600000   \n",
      "max       35000.000000   1305.190000  6.000000e+06     29.990000   \n",
      "\n",
      "        delinq_2yrs  inq_last_6mths  ...  num_tl_90g_dpd_24m  \\\n",
      "count  39717.000000    39717.000000  ...                 0.0   \n",
      "mean       0.146512        0.869200  ...                 NaN   \n",
      "std        0.491812        1.070219  ...                 NaN   \n",
      "min        0.000000        0.000000  ...                 NaN   \n",
      "25%        0.000000        0.000000  ...                 NaN   \n",
      "50%        0.000000        1.000000  ...                 NaN   \n",
      "75%        0.000000        1.000000  ...                 NaN   \n",
      "max       11.000000        8.000000  ...                 NaN   \n",
      "\n",
      "       num_tl_op_past_12m  pct_tl_nvr_dlq  percent_bc_gt_75  \\\n",
      "count                 0.0             0.0               0.0   \n",
      "mean                  NaN             NaN               NaN   \n",
      "std                   NaN             NaN               NaN   \n",
      "min                   NaN             NaN               NaN   \n",
      "25%                   NaN             NaN               NaN   \n",
      "50%                   NaN             NaN               NaN   \n",
      "75%                   NaN             NaN               NaN   \n",
      "max                   NaN             NaN               NaN   \n",
      "\n",
      "       pub_rec_bankruptcies  tax_liens  tot_hi_cred_lim  total_bal_ex_mort  \\\n",
      "count          39020.000000    39678.0              0.0                0.0   \n",
      "mean               0.043260        0.0              NaN                NaN   \n",
      "std                0.204324        0.0              NaN                NaN   \n",
      "min                0.000000        0.0              NaN                NaN   \n",
      "25%                0.000000        0.0              NaN                NaN   \n",
      "50%                0.000000        0.0              NaN                NaN   \n",
      "75%                0.000000        0.0              NaN                NaN   \n",
      "max                2.000000        0.0              NaN                NaN   \n",
      "\n",
      "       total_bc_limit  total_il_high_credit_limit  \n",
      "count             0.0                         0.0  \n",
      "mean              NaN                         NaN  \n",
      "std               NaN                         NaN  \n",
      "min               NaN                         NaN  \n",
      "25%               NaN                         NaN  \n",
      "50%               NaN                         NaN  \n",
      "75%               NaN                         NaN  \n",
      "max               NaN                         NaN  \n",
      "\n",
      "[8 rows x 87 columns]\n"
     ]
    }
   ],
   "source": [
    "# Checking type of columns, shape, missing value etc.\n",
    "print(data.describe())"
   ]
  },
  {
   "cell_type": "code",
   "execution_count": 4,
   "id": "535ece9e",
   "metadata": {},
   "outputs": [
    {
     "data": {
      "text/plain": [
       "(39717, 111)"
      ]
     },
     "execution_count": 4,
     "metadata": {},
     "output_type": "execute_result"
    }
   ],
   "source": [
    "# Checking shape of data before manipulation\n",
    "data.shape"
   ]
  },
  {
   "cell_type": "code",
   "execution_count": 5,
   "id": "e6290b39",
   "metadata": {},
   "outputs": [
    {
     "data": {
      "text/plain": [
       "Index(['mths_since_last_major_derog', 'annual_inc_joint', 'dti_joint',\n",
       "       'verification_status_joint', 'tot_coll_amt', 'tot_cur_bal',\n",
       "       'open_acc_6m', 'open_il_6m', 'open_il_12m', 'open_il_24m',\n",
       "       'mths_since_rcnt_il', 'total_bal_il', 'il_util', 'open_rv_12m',\n",
       "       'open_rv_24m', 'max_bal_bc', 'all_util', 'total_rev_hi_lim', 'inq_fi',\n",
       "       'total_cu_tl', 'inq_last_12m', 'acc_open_past_24mths', 'avg_cur_bal',\n",
       "       'bc_open_to_buy', 'bc_util', 'mo_sin_old_il_acct',\n",
       "       'mo_sin_old_rev_tl_op', 'mo_sin_rcnt_rev_tl_op', 'mo_sin_rcnt_tl',\n",
       "       'mort_acc', 'mths_since_recent_bc', 'mths_since_recent_bc_dlq',\n",
       "       'mths_since_recent_inq', 'mths_since_recent_revol_delinq',\n",
       "       'num_accts_ever_120_pd', 'num_actv_bc_tl', 'num_actv_rev_tl',\n",
       "       'num_bc_sats', 'num_bc_tl', 'num_il_tl', 'num_op_rev_tl',\n",
       "       'num_rev_accts', 'num_rev_tl_bal_gt_0', 'num_sats', 'num_tl_120dpd_2m',\n",
       "       'num_tl_30dpd', 'num_tl_90g_dpd_24m', 'num_tl_op_past_12m',\n",
       "       'pct_tl_nvr_dlq', 'percent_bc_gt_75', 'tot_hi_cred_lim',\n",
       "       'total_bal_ex_mort', 'total_bc_limit', 'total_il_high_credit_limit'],\n",
       "      dtype='object')"
      ]
     },
     "execution_count": 5,
     "metadata": {},
     "output_type": "execute_result"
    }
   ],
   "source": [
    "# Some columns seems to have all NA values\n",
    "data.columns[data.isna().all()]"
   ]
  },
  {
   "cell_type": "code",
   "execution_count": 6,
   "id": "4b7fd96e",
   "metadata": {},
   "outputs": [],
   "source": [
    "# Columns with all NA values cannot possibly contribute in any way in analysis, hence dropping them\n",
    "data = data.dropna(axis=1, how=\"all\")"
   ]
  },
  {
   "cell_type": "code",
   "execution_count": 7,
   "id": "ca575ae2",
   "metadata": {},
   "outputs": [
    {
     "data": {
      "text/plain": [
       "(39717, 57)"
      ]
     },
     "execution_count": 7,
     "metadata": {},
     "output_type": "execute_result"
    }
   ],
   "source": [
    "# Shape of data after dropping columns with all NA\n",
    "data.shape"
   ]
  },
  {
   "cell_type": "code",
   "execution_count": 8,
   "id": "3fc0c248",
   "metadata": {
    "scrolled": true
   },
   "outputs": [
    {
     "name": "stdout",
     "output_type": "stream",
     "text": [
      "                 id     member_id     loan_amnt   funded_amnt  \\\n",
      "count  3.971700e+04  3.971700e+04  39717.000000  39717.000000   \n",
      "mean   6.831319e+05  8.504636e+05  11219.443815  10947.713196   \n",
      "std    2.106941e+05  2.656783e+05   7456.670694   7187.238670   \n",
      "min    5.473400e+04  7.069900e+04    500.000000    500.000000   \n",
      "25%    5.162210e+05  6.667800e+05   5500.000000   5400.000000   \n",
      "50%    6.656650e+05  8.508120e+05  10000.000000   9600.000000   \n",
      "75%    8.377550e+05  1.047339e+06  15000.000000  15000.000000   \n",
      "max    1.077501e+06  1.314167e+06  35000.000000  35000.000000   \n",
      "\n",
      "       funded_amnt_inv   installment    annual_inc           dti  \\\n",
      "count     39717.000000  39717.000000  3.971700e+04  39717.000000   \n",
      "mean      10397.448868    324.561922  6.896893e+04     13.315130   \n",
      "std        7128.450439    208.874874  6.379377e+04      6.678594   \n",
      "min           0.000000     15.690000  4.000000e+03      0.000000   \n",
      "25%        5000.000000    167.020000  4.040400e+04      8.170000   \n",
      "50%        8975.000000    280.220000  5.900000e+04     13.400000   \n",
      "75%       14400.000000    430.780000  8.230000e+04     18.600000   \n",
      "max       35000.000000   1305.190000  6.000000e+06     29.990000   \n",
      "\n",
      "        delinq_2yrs  inq_last_6mths  ...    recoveries  \\\n",
      "count  39717.000000    39717.000000  ...  39717.000000   \n",
      "mean       0.146512        0.869200  ...     95.221624   \n",
      "std        0.491812        1.070219  ...    688.744771   \n",
      "min        0.000000        0.000000  ...      0.000000   \n",
      "25%        0.000000        0.000000  ...      0.000000   \n",
      "50%        0.000000        1.000000  ...      0.000000   \n",
      "75%        0.000000        1.000000  ...      0.000000   \n",
      "max       11.000000        8.000000  ...  29623.350000   \n",
      "\n",
      "       collection_recovery_fee  last_pymnt_amnt  collections_12_mths_ex_med  \\\n",
      "count             39717.000000     39717.000000                     39661.0   \n",
      "mean                 12.406112      2678.826162                         0.0   \n",
      "std                 148.671593      4447.136012                         0.0   \n",
      "min                   0.000000         0.000000                         0.0   \n",
      "25%                   0.000000       218.680000                         0.0   \n",
      "50%                   0.000000       546.140000                         0.0   \n",
      "75%                   0.000000      3293.160000                         0.0   \n",
      "max                7002.190000     36115.200000                         0.0   \n",
      "\n",
      "       policy_code  acc_now_delinq  chargeoff_within_12_mths  delinq_amnt  \\\n",
      "count      39717.0         39717.0                   39661.0      39717.0   \n",
      "mean           1.0             0.0                       0.0          0.0   \n",
      "std            0.0             0.0                       0.0          0.0   \n",
      "min            1.0             0.0                       0.0          0.0   \n",
      "25%            1.0             0.0                       0.0          0.0   \n",
      "50%            1.0             0.0                       0.0          0.0   \n",
      "75%            1.0             0.0                       0.0          0.0   \n",
      "max            1.0             0.0                       0.0          0.0   \n",
      "\n",
      "       pub_rec_bankruptcies  tax_liens  \n",
      "count          39020.000000    39678.0  \n",
      "mean               0.043260        0.0  \n",
      "std                0.204324        0.0  \n",
      "min                0.000000        0.0  \n",
      "25%                0.000000        0.0  \n",
      "50%                0.000000        0.0  \n",
      "75%                0.000000        0.0  \n",
      "max                2.000000        0.0  \n",
      "\n",
      "[8 rows x 33 columns]\n"
     ]
    }
   ],
   "source": [
    "# Still a lot of columns, how to find which columns are best suited for analysis\n",
    "print(data.describe())"
   ]
  },
  {
   "cell_type": "code",
   "execution_count": 9,
   "id": "e2c45dda",
   "metadata": {},
   "outputs": [
    {
     "name": "stderr",
     "output_type": "stream",
     "text": [
      "C:\\Users\\user\\AppData\\Local\\Temp/ipykernel_4520/4245716655.py:2: FutureWarning: Dropping of nuisance columns in DataFrame reductions (with 'numeric_only=None') is deprecated; in a future version this will raise TypeError.  Select only valid columns before calling the reduction.\n",
      "  lst = data.mean() > 0\n"
     ]
    },
    {
     "data": {
      "text/plain": [
       "id                             True\n",
       "member_id                      True\n",
       "loan_amnt                      True\n",
       "funded_amnt                    True\n",
       "funded_amnt_inv                True\n",
       "installment                    True\n",
       "annual_inc                     True\n",
       "dti                            True\n",
       "delinq_2yrs                    True\n",
       "inq_last_6mths                 True\n",
       "mths_since_last_delinq         True\n",
       "mths_since_last_record         True\n",
       "open_acc                       True\n",
       "pub_rec                        True\n",
       "revol_bal                      True\n",
       "total_acc                      True\n",
       "out_prncp                      True\n",
       "out_prncp_inv                  True\n",
       "total_pymnt                    True\n",
       "total_pymnt_inv                True\n",
       "total_rec_prncp                True\n",
       "total_rec_int                  True\n",
       "total_rec_late_fee             True\n",
       "recoveries                     True\n",
       "collection_recovery_fee        True\n",
       "last_pymnt_amnt                True\n",
       "collections_12_mths_ex_med    False\n",
       "policy_code                    True\n",
       "acc_now_delinq                False\n",
       "chargeoff_within_12_mths      False\n",
       "delinq_amnt                   False\n",
       "pub_rec_bankruptcies           True\n",
       "tax_liens                     False\n",
       "dtype: bool"
      ]
     },
     "execution_count": 9,
     "metadata": {},
     "output_type": "execute_result"
    }
   ],
   "source": [
    "# Some columns seem to have all zeros, find list of columns with mean 0\n",
    "lst = data.mean() > 0\n",
    "lst"
   ]
  },
  {
   "cell_type": "code",
   "execution_count": 10,
   "id": "20fd232d",
   "metadata": {},
   "outputs": [],
   "source": [
    "#drop columns with mean 0\n",
    "data.drop(labels=lst[lst==False].index.tolist(), inplace=True, axis=1)"
   ]
  },
  {
   "cell_type": "code",
   "execution_count": 11,
   "id": "06859d20",
   "metadata": {},
   "outputs": [
    {
     "data": {
      "text/plain": [
       "(39717, 51)"
      ]
     },
     "execution_count": 11,
     "metadata": {},
     "output_type": "execute_result"
    }
   ],
   "source": [
    "#Dropping url column, not needed for EDA, Loan id is available in separate column\n",
    "data.drop(labels=[\"url\"], inplace=True, axis=1)\n",
    "data.shape"
   ]
  },
  {
   "cell_type": "code",
   "execution_count": 12,
   "id": "d922dcf6",
   "metadata": {},
   "outputs": [
    {
     "name": "stdout",
     "output_type": "stream",
     "text": [
      "<class 'pandas.core.frame.DataFrame'>\n",
      "RangeIndex: 39717 entries, 0 to 39716\n",
      "Data columns (total 51 columns):\n",
      " #   Column                   Non-Null Count  Dtype  \n",
      "---  ------                   --------------  -----  \n",
      " 0   id                       39717 non-null  int64  \n",
      " 1   member_id                39717 non-null  int64  \n",
      " 2   loan_amnt                39717 non-null  int64  \n",
      " 3   funded_amnt              39717 non-null  int64  \n",
      " 4   funded_amnt_inv          39717 non-null  float64\n",
      " 5   term                     39717 non-null  object \n",
      " 6   int_rate                 39717 non-null  object \n",
      " 7   installment              39717 non-null  float64\n",
      " 8   grade                    39717 non-null  object \n",
      " 9   sub_grade                39717 non-null  object \n",
      " 10  emp_title                37258 non-null  object \n",
      " 11  emp_length               38642 non-null  object \n",
      " 12  home_ownership           39717 non-null  object \n",
      " 13  annual_inc               39717 non-null  float64\n",
      " 14  verification_status      39717 non-null  object \n",
      " 15  issue_d                  39717 non-null  object \n",
      " 16  loan_status              39717 non-null  object \n",
      " 17  pymnt_plan               39717 non-null  object \n",
      " 18  desc                     26777 non-null  object \n",
      " 19  purpose                  39717 non-null  object \n",
      " 20  title                    39706 non-null  object \n",
      " 21  zip_code                 39717 non-null  object \n",
      " 22  addr_state               39717 non-null  object \n",
      " 23  dti                      39717 non-null  float64\n",
      " 24  delinq_2yrs              39717 non-null  int64  \n",
      " 25  earliest_cr_line         39717 non-null  object \n",
      " 26  inq_last_6mths           39717 non-null  int64  \n",
      " 27  mths_since_last_delinq   14035 non-null  float64\n",
      " 28  mths_since_last_record   2786 non-null   float64\n",
      " 29  open_acc                 39717 non-null  int64  \n",
      " 30  pub_rec                  39717 non-null  int64  \n",
      " 31  revol_bal                39717 non-null  int64  \n",
      " 32  revol_util               39667 non-null  object \n",
      " 33  total_acc                39717 non-null  int64  \n",
      " 34  initial_list_status      39717 non-null  object \n",
      " 35  out_prncp                39717 non-null  float64\n",
      " 36  out_prncp_inv            39717 non-null  float64\n",
      " 37  total_pymnt              39717 non-null  float64\n",
      " 38  total_pymnt_inv          39717 non-null  float64\n",
      " 39  total_rec_prncp          39717 non-null  float64\n",
      " 40  total_rec_int            39717 non-null  float64\n",
      " 41  total_rec_late_fee       39717 non-null  float64\n",
      " 42  recoveries               39717 non-null  float64\n",
      " 43  collection_recovery_fee  39717 non-null  float64\n",
      " 44  last_pymnt_d             39646 non-null  object \n",
      " 45  last_pymnt_amnt          39717 non-null  float64\n",
      " 46  next_pymnt_d             1140 non-null   object \n",
      " 47  last_credit_pull_d       39715 non-null  object \n",
      " 48  policy_code              39717 non-null  int64  \n",
      " 49  application_type         39717 non-null  object \n",
      " 50  pub_rec_bankruptcies     39020 non-null  float64\n",
      "dtypes: float64(17), int64(11), object(23)\n",
      "memory usage: 15.5+ MB\n"
     ]
    }
   ],
   "source": [
    "# Checking columns after removing all NA and 0 columns\n",
    "data.info()"
   ]
  },
  {
   "cell_type": "code",
   "execution_count": 13,
   "id": "603b7059",
   "metadata": {},
   "outputs": [
    {
     "data": {
      "text/plain": [
       "Fully Paid     32950\n",
       "Charged Off     5627\n",
       "Current         1140\n",
       "Name: loan_status, dtype: int64"
      ]
     },
     "execution_count": 13,
     "metadata": {},
     "output_type": "execute_result"
    }
   ],
   "source": [
    "# Cheking loan_status column\n",
    "data.loan_status.value_counts()"
   ]
  },
  {
   "cell_type": "code",
   "execution_count": 23,
   "id": "3f8fa651",
   "metadata": {},
   "outputs": [
    {
     "name": "stdout",
     "output_type": "stream",
     "text": [
      "(5627, 51)\n",
      "(32950, 51)\n"
     ]
    }
   ],
   "source": [
    "# loan_status : Charged Off - Defaulter, Fully Paid/Current - Not Defaulter\n",
    "data_chargedoff = data[(data.loan_status==\"Charged Off\")]\n",
    "data_fullypaid = data[(data.loan_status==\"Fully Paid\")]\n",
    "print(data_chargedoff.shape)\n",
    "print(data_fullypaid.shape)"
   ]
  },
  {
   "cell_type": "code",
   "execution_count": 29,
   "id": "63eda0f2",
   "metadata": {},
   "outputs": [
    {
     "data": {
      "text/plain": [
       "(38577, 51)"
      ]
     },
     "execution_count": 29,
     "metadata": {},
     "output_type": "execute_result"
    }
   ],
   "source": [
    "data_CF = data[~(data.loan_status==\"Current\")]\n",
    "data_CF.shape"
   ]
  },
  {
   "cell_type": "code",
   "execution_count": 25,
   "id": "79b825ec",
   "metadata": {},
   "outputs": [
    {
     "data": {
      "image/png": "[encoded data removed]",
      "text/plain": [
       "<Figure size 1080x720 with 1 Axes>"
      ]
     },
     "metadata": {
      "needs_background": "light"
     },
     "output_type": "display_data"
    }
   ],
   "source": [
    "# univariate analysis on loan amount for Charged-off loans\n",
    "fig, ax = plt.subplots(figsize=(15,10))\n",
    "g = sns.histplot(data=data_chargedoff.funded_amnt, bins=50)\n",
    "g.set_title(\"Loan Amount count for Charged-off Loans\", fontsize=15)\n",
    "g.set_ylabel(\"Count\", fontsize=12)\n",
    "g.set_xlabel(\"Loan Amount\", fontsize=12)\n",
    "plt.show()"
   ]
  },
  {
   "cell_type": "code",
   "execution_count": 36,
   "id": "e9acfc9f",
   "metadata": {},
   "outputs": [
    {
     "data": {
      "image/png": "[encoded data removed]",
      "text/plain": [
       "<Figure size 1080x720 with 1 Axes>"
      ]
     },
     "metadata": {
      "needs_background": "light"
     },
     "output_type": "display_data"
    }
   ],
   "source": [
    "# Charged-off loans have spike at every 5000 of funded amount starting from 5000\n",
    "# Let's compare the funded amount counts of charged-off and Fully paid loans\n",
    "fig, ax = plt.subplots(figsize=(15,10))\n",
    "g = sns.histplot(data=data_CF, x=\"funded_amnt\", bins=50, hue=\"loan_status\", multiple=\"dodge\")\n",
    "g.set_title(\"Loan Amount count for Charged-off and Fully-paid Loans\", fontsize=15)\n",
    "g.set_ylabel(\"Count\", fontsize=12)\n",
    "g.set_xlabel(\"Loan Amount\", fontsize=12)\n",
    "plt.show()"
   ]
  },
  {
   "cell_type": "code",
   "execution_count": 41,
   "id": "e8a26184",
   "metadata": {},
   "outputs": [
    {
     "data": {
      "image/png": "[encoded data removed]",
      "text/plain": [
       "<Figure size 864x576 with 1 Axes>"
      ]
     },
     "metadata": {
      "needs_background": "light"
     },
     "output_type": "display_data"
    }
   ],
   "source": [
    "# Segmented-bivariate analysis on loan amount\n",
    "fig, ax = plt.subplots(figsize=(12,8))\n",
    "g2 = sns.boxplot(x=\"loan_status\", y=\"funded_amnt\",data=data, \n",
    "              palette=\"hls\", hue=\"loan_status\")\n",
    "g2.set_title(\"Loan Status by Funded Amount\", fontsize=15)\n",
    "g2.set_ylabel(\"Funded Amount\", fontsize=12)\n",
    "g2.set_xlabel(\"Loan Status\", fontsize=12)\n",
    "plt.show()"
   ]
  },
  {
   "cell_type": "markdown",
   "id": "c4dd042d",
   "metadata": {},
   "source": [
    "# We are going to evaluate credit risk based on three factors - Character, Capacity and Conditions\n",
    "1. Character - Can be observed from Number of jobs held, length of employments, homeownership \n",
    "2. Capacity - DTI \n",
    "3. Conditions - Interest rate, term length, installment, Reason for loan"
   ]
  },
  {
   "cell_type": "code",
   "execution_count": 37,
   "id": "f6ae8275",
   "metadata": {},
   "outputs": [
    {
     "data": {
      "text/plain": [
       "RENT        18480\n",
       "MORTGAGE    17021\n",
       "OWN          2975\n",
       "OTHER          98\n",
       "NONE            3\n",
       "Name: home_ownership, dtype: int64"
      ]
     },
     "execution_count": 37,
     "metadata": {},
     "output_type": "execute_result"
    }
   ],
   "source": [
    "data_CF.home_ownership.value_counts()"
   ]
  },
  {
   "cell_type": "code",
   "execution_count": 38,
   "id": "6980ab59",
   "metadata": {},
   "outputs": [
    {
     "data": {
      "image/png": "[encoded data removed]",
      "text/plain": [
       "<Figure size 1080x720 with 1 Axes>"
      ]
     },
     "metadata": {
      "needs_background": "light"
     },
     "output_type": "display_data"
    }
   ],
   "source": [
    "# Checking categorical variable home_ownership for charged-off and Fully-paid\n",
    "fig, ax = plt.subplots(figsize=(15,10))\n",
    "g = sns.histplot(data=data_CF, x=\"home_ownership\", bins=50, hue=\"loan_status\", multiple=\"dodge\")\n",
    "g.set_title(\"Home Ownership by Loan Status\", fontsize=15)\n",
    "g.set_ylabel(\"Count\", fontsize=12)\n",
    "g.set_xlabel(\"Home Ownership\", fontsize=12)\n",
    "plt.show()"
   ]
  },
  {
   "cell_type": "code",
   "execution_count": 44,
   "id": "90b99d37",
   "metadata": {},
   "outputs": [
    {
     "data": {
      "image/png": "[encoded data removed]",
      "text/plain": [
       "<Figure size 432x288 with 1 Axes>"
      ]
     },
     "metadata": {
      "needs_background": "light"
     },
     "output_type": "display_data"
    }
   ],
   "source": [
    "data_CF_OwnHome = data_CF[data_CF.home_ownership==\"OWN\"]\n",
    "g = sns.histplot(data=data_CF_OwnHome, x=\"loan_status\", bins=50)\n",
    "g.set_title(\"Loan Status For Home Owners\", fontsize=15)\n",
    "g.set_ylabel(\"Count\", fontsize=12)\n",
    "g.set_xlabel(\"Loan Status\", fontsize=12)\n",
    "plt.show()"
   ]
  },
  {
   "cell_type": "markdown",
   "id": "407f6760",
   "metadata": {},
   "source": [
    "# Aside from Other and None, lowest number of defaulters have own home"
   ]
  },
  {
   "cell_type": "code",
   "execution_count": 52,
   "id": "657bcaf3",
   "metadata": {},
   "outputs": [
    {
     "data": {
      "text/plain": [
       "dtype('O')"
      ]
     },
     "execution_count": 52,
     "metadata": {},
     "output_type": "execute_result"
    }
   ],
   "source": [
    "## Checking Employment length column\n",
    "data_CF.emp_length.dtype"
   ]
  },
  {
   "cell_type": "code",
   "execution_count": 47,
   "id": "d9211fcf",
   "metadata": {},
   "outputs": [
    {
     "data": {
      "image/png": "[encoded data removed]",
      "text/plain": [
       "<Figure size 1080x720 with 1 Axes>"
      ]
     },
     "metadata": {
      "needs_background": "light"
     },
     "output_type": "display_data"
    }
   ],
   "source": [
    "fig, ax = plt.subplots(figsize=(15,10))\n",
    "g = sns.histplot(data=data_CF, x=\"emp_length\", bins=50, hue=\"loan_status\", multiple=\"dodge\")\n",
    "g.set_title(\"Emp Length by Loan Status\", fontsize=15)\n",
    "g.set_ylabel(\"Count\", fontsize=12)\n",
    "g.set_xlabel(\"Emp Length\", fontsize=12)\n",
    "plt.show()"
   ]
  },
  {
   "cell_type": "code",
   "execution_count": 49,
   "id": "77db0d84",
   "metadata": {},
   "outputs": [
    {
     "data": {
      "image/png": "[encoded data removed]",
      "text/plain": [
       "<Figure size 1440x864 with 1 Axes>"
      ]
     },
     "metadata": {
      "needs_background": "light"
     },
     "output_type": "display_data"
    }
   ],
   "source": [
    "fig, ax = plt.subplots(figsize=(20,12))\n",
    "g2 = sns.boxplot(x=\"emp_length\", y=\"funded_amnt\",data=data_CF, \n",
    "              palette=\"hls\", hue=\"loan_status\")\n",
    "g2.set_title(\"Funded Amount by Emp Length\", fontsize=15)\n",
    "g2.set_ylabel(\"Funded Amount\", fontsize=12)\n",
    "g2.set_xlabel(\"Emp Length\", fontsize=12)\n",
    "plt.show()"
   ]
  },
  {
   "cell_type": "markdown",
   "id": "75508c1d",
   "metadata": {},
   "source": [
    "# Median and 75th Percentile of Funded amount for Charged-off loans with 10+ years of employment is significantly higher\n",
    "# For Loan Amount > 15000, more analysis needed for evaluating credit risk"
   ]
  },
  {
   "cell_type": "code",
   "execution_count": 56,
   "id": "b6dcd4f4",
   "metadata": {},
   "outputs": [
    {
     "data": {
      "text/plain": [
       "10     8488\n",
       "0      4508\n",
       "2      4291\n",
       "3      4012\n",
       "4      3342\n",
       "5      3194\n",
       "1      3169\n",
       "6      2168\n",
       "7      1711\n",
       "8      1435\n",
       "9      1226\n",
       "nan    1033\n",
       "Name: emp_length, dtype: int64"
      ]
     },
     "execution_count": 56,
     "metadata": {},
     "output_type": "execute_result"
    }
   ],
   "source": [
    "data_CF.emp_length = data_CF.emp_length.apply(lambda x: str(x).split(\" \")[0])\n",
    "data_CF.emp_length = data_CF.emp_length.apply(lambda x: \"0\" if x==\"<\" else x)\n",
    "data_CF.emp_length = data_CF.emp_length.apply(lambda x: x[0:2] if x==\"10+\" else x)"
   ]
  },
  {
   "cell_type": "code",
   "execution_count": 58,
   "id": "f370ba1f",
   "metadata": {},
   "outputs": [
    {
     "name": "stderr",
     "output_type": "stream",
     "text": [
      "C:\\Users\\user\\anaconda3\\lib\\site-packages\\pandas\\core\\generic.py:5516: SettingWithCopyWarning: \n",
      "A value is trying to be set on a copy of a slice from a DataFrame.\n",
      "Try using .loc[row_indexer,col_indexer] = value instead\n",
      "\n",
      "See the caveats in the documentation: https://pandas.pydata.org/pandas-docs/stable/user_guide/indexing.html#returning-a-view-versus-a-copy\n",
      "  self[name] = value\n"
     ]
    },
    {
     "data": {
      "text/plain": [
       "10    8488\n",
       "0     4508\n",
       "2     4291\n",
       "3     4012\n",
       "4     3342\n",
       "5     3194\n",
       "1     3169\n",
       "6     2168\n",
       "7     1711\n",
       "8     1435\n",
       "9     1226\n",
       "Name: emp_length, dtype: int64"
      ]
     },
     "execution_count": 58,
     "metadata": {},
     "output_type": "execute_result"
    }
   ],
   "source": [
    "data_CF.emp_length = data_CF.emp_length.apply(lambda x: None if x==\"nan\" else x)\n",
    "data_CF.emp_length.value_counts()"
   ]
  },
  {
   "cell_type": "code",
   "execution_count": 60,
   "id": "26298f7e",
   "metadata": {},
   "outputs": [
    {
     "name": "stderr",
     "output_type": "stream",
     "text": [
      "C:\\Users\\user\\anaconda3\\lib\\site-packages\\pandas\\core\\generic.py:5516: SettingWithCopyWarning: \n",
      "A value is trying to be set on a copy of a slice from a DataFrame.\n",
      "Try using .loc[row_indexer,col_indexer] = value instead\n",
      "\n",
      "See the caveats in the documentation: https://pandas.pydata.org/pandas-docs/stable/user_guide/indexing.html#returning-a-view-versus-a-copy\n",
      "  self[name] = value\n"
     ]
    },
    {
     "data": {
      "text/plain": [
       "10     8488\n",
       "0      4508\n",
       "2      4291\n",
       "3      4012\n",
       "4      3342\n",
       "5      3194\n",
       "1      3169\n",
       "6      2168\n",
       "7      1711\n",
       "8      1435\n",
       "9      1226\n",
       "100    1033\n",
       "Name: emp_length, dtype: int64"
      ]
     },
     "execution_count": 60,
     "metadata": {},
     "output_type": "execute_result"
    }
   ],
   "source": [
    "## Replacing None with 100, will not consider them in analysis\n",
    "data_CF.emp_length = data_CF.emp_length.apply(lambda x: 100 if x==None else x)\n",
    "data_CF.emp_length.value_counts()"
   ]
  },
  {
   "cell_type": "code",
   "execution_count": 61,
   "id": "1c7945b0",
   "metadata": {},
   "outputs": [
    {
     "data": {
      "text/plain": [
       "10     8488\n",
       "0      4508\n",
       "2      4291\n",
       "3      4012\n",
       "4      3342\n",
       "5      3194\n",
       "1      3169\n",
       "6      2168\n",
       "7      1711\n",
       "8      1435\n",
       "9      1226\n",
       "100    1033\n",
       "Name: emp_length, dtype: int64"
      ]
     },
     "execution_count": 61,
     "metadata": {},
     "output_type": "execute_result"
    }
   ],
   "source": [
    "data_CF.emp_length = data_CF.emp_length.astype(\"int\")\n",
    "data_CF.emp_length.value_counts()"
   ]
  },
  {
   "cell_type": "code",
   "execution_count": null,
   "id": "142b3753",
   "metadata": {},
   "outputs": [],
   "source": []
  },
  {
   "cell_type": "code",
   "execution_count": 64,
   "id": "17c01777",
   "metadata": {},
   "outputs": [
    {
     "data": {
      "image/png": "[encoded data removed]",
      "text/plain": [
       "<Figure size 1440x864 with 1 Axes>"
      ]
     },
     "metadata": {
      "needs_background": "light"
     },
     "output_type": "display_data"
    }
   ],
   "source": [
    "fig, ax = plt.subplots(figsize=(20,12))\n",
    "g2 = sns.scatterplot(y=\"emp_length\", x=\"home_ownership\",data=data_CF, \n",
    "              palette=\"hls\", hue=\"loan_status\")\n",
    "g2.set_title(\"Home Ownership by Emp Length\", fontsize=15)\n",
    "g2.set_xlabel(\"Home Ownership\", fontsize=12)\n",
    "g2.set_ylabel(\"Emp Length\", fontsize=12)\n",
    "plt.show()"
   ]
  },
  {
   "cell_type": "code",
   "execution_count": null,
   "id": "cf8b67bc",
   "metadata": {},
   "outputs": [],
   "source": []
  },
  {
   "cell_type": "code",
   "execution_count": null,
   "id": "221d59cd",
   "metadata": {},
   "outputs": [],
   "source": []
  }
 ],
 "metadata": {
  "kernelspec": {
   "display_name": "Python 3 (ipykernel)",
   "language": "python",
   "name": "python3"
  },
  "language_info": {
   "codemirror_mode": {
    "name": "ipython",
    "version": 3
   },
   "file_extension": ".py",
   "mimetype": "text/x-python",
   "name": "python",
   "nbconvert_exporter": "python",
   "pygments_lexer": "ipython3",
   "version": "3.9.7"
  }
 },
 "nbformat": 4,
 "nbformat_minor": 5
}
